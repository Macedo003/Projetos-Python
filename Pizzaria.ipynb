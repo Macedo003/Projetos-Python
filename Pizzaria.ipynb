{
  "nbformat": 4,
  "nbformat_minor": 0,
  "metadata": {
    "colab": {
      "provenance": []
    },
    "kernelspec": {
      "name": "python3",
      "display_name": "Python 3"
    },
    "language_info": {
      "name": "python"
    }
  },
  "cells": [
    {
      "cell_type": "code",
      "execution_count": null,
      "metadata": {
        "id": "wD7CjHf0bXyX"
      },
      "outputs": [],
      "source": [
        "from abc import ABC, abstractmethod"
      ]
    },
    {
      "cell_type": "code",
      "source": [
        "class pizzaria(ABC):\n",
        "  @abstractmethod\n",
        "  def nome_pizzaria(self):\n",
        "    pass\n",
        "\n",
        "  @abstractmethod\n",
        "  def monta_cardapio(self):\n",
        "    pass"
      ],
      "metadata": {
        "id": "df_leJ4TbuOo"
      },
      "execution_count": null,
      "outputs": []
    },
    {
      "cell_type": "code",
      "source": [
        "class pedidos():\n",
        "  def __init__(self):\n",
        "    self.num_pedido = 0\n",
        "    self.tempo_espera = 0\n",
        "    self.valor_pedido = 0.0\n",
        "    self.pedidos = [] #Cod Pedido[0] - cod item[1] - valor[2] - quantidade[3] - cliente[4]\n",
        "    self.caixa = 0.0\n",
        "    self.pedidos_entreges = []\n",
        "\n",
        "  def novo_pedido(self, cod_item, valor, quantidade, cliente):\n",
        "    self.num_pedido += 1\n",
        "    self.tempo_espera += 20\n",
        "    self.pedidos.append([self.num_pedido, cod_item, valor, quantidade, cliente])\n",
        "\n",
        "  def get_tempo_espera(self):\n",
        "    return self.tempo_espera\n",
        "\n",
        "  def pedido_entrege(self, num_pedido):\n",
        "    for pedido in self.pedidos:\n",
        "      if pedido[0] == num_pedido:\n",
        "        self.caixa += (pedido[2] * pedido[3])\n",
        "        self.pedidos_entreges.append(pedido)\n",
        "        self.pedidos.remove(pedido)\n",
        "        self.tempo_espera -=20\n",
        "\n",
        "  def get_pedido(self):\n",
        "    return self.pedidos\n",
        "\n",
        "  def get_pedidos_finalizados(self):\n",
        "    return self.pedidos_entreges"
      ],
      "metadata": {
        "id": "IkMeko7QweEz"
      },
      "execution_count": null,
      "outputs": []
    },
    {
      "cell_type": "code",
      "source": [
        "class minha_pizzaria(pizzaria):\n",
        "  def __init__(self):\n",
        "    self.nome = ''\n",
        "    self.catalogo = []\n",
        "    self.pedidos = pedidos() \n",
        "  \n",
        "  def nome_pizzaria(self ,nome):\n",
        "    self.nome = nome\n",
        "\n",
        "  \n",
        "  def monta_cardapio(self,item):\n",
        "    self.catalogo.append(item)\n",
        "\n",
        "  def atendimento(self):\n",
        "    print('Boa noite, bem vindo a ' + self.nome)\n",
        "    cliente = input('Digite o seu nome')\n",
        "    print(cliente+ 'escolha seu produto')\n",
        "    print('-----Menu-----')\n",
        "    for itens in self.catalogo:\n",
        "      print('Cod.:'+ str(itens[0]))\n",
        "      print('Desc.:'+ str(itens[1]))\n",
        "      print('Preço.: R$'+ str(itens[2]))\n",
        "      print(\"--------------------\")\n",
        "\n",
        "    cod_item = int(input('Digite o codigo do item'))\n",
        "    quantidade = int(input('Digite a quantidade de itens'))\n",
        "    for itens in self.catalogo:\n",
        "      if itens[0] == cod_item: \n",
        "        self.pedidos.novo_pedido(itens[0],itens[2],quantidade,cliente)\n",
        "    print('pedido realizado com sucesso, o tempo de entrega é de ' + str(self.pedidos.get_tempo_espera()) + \" Minutos\")   \n",
        "\n",
        "  def get_cardapio(self):\n",
        "    print(\"---------------------\")\n",
        "    print(\"####### Pizzas #######\")\n",
        "    for itens in self.catalogo:\n",
        "      print('Cod.:'+ str(itens[0]))\n",
        "      print('Desc.:'+ str(itens[1]))\n",
        "      print('Preço.: R$'+ str(itens[2]))\n",
        "      print(\"--------------------\")\n",
        "\n",
        "  def lista_pedidos(self):\n",
        "    pedidos = self.pedidos.get_pedido()\n",
        "    for ped in pedidos:\n",
        "      print(\"numero do pedido \" + str(ped[0]))\n",
        "      print(\"item \" + str(ped[1]))\n",
        "      print(\"valor R$ \" + str(ped[2]))\n",
        "      print(\"Quantidade \" + str(ped[3]))\n",
        "      print(\"Cliente \" + str(ped[4]))\n",
        "\n",
        "  def finalizar_pedido(self):\n",
        "    num_ped = int(input('Digite o numero do pedido que será entregue'))\n",
        "    self.pedidos.pedido_entrege(num_ped)\n",
        "\n",
        "  def relatorio_caixa(self):\n",
        "    valor_total = 0\n",
        "    pedidos_fechados = self.pedidos.get_pedidos_finalizados()\n",
        "    print(\"relatorio de caixa\")  \n",
        "    print(\"-----------------------\")\n",
        "    for rel in pedidos_fechados:\n",
        "      valor_total += (rel[2]*rel[3])\n",
        "      print('Numero pedido:' + str(rel[0]))\n",
        "      print('item:' + str(rel[1]))\n",
        "      print('valor R$:' + str(rel[2]))\n",
        "      print('quantidade:' + str(rel[3]))\n",
        "      print('Cliente:' + str(rel[4]))\n",
        "      print('Valor total R$:' + str(rel[2] * rel[3]))\n",
        "      print(\"-----------------------\")\n",
        "    print('Total do caixa: R$' + str(valor_total))"
      ],
      "metadata": {
        "id": "1V2eMOlMciLZ"
      },
      "execution_count": null,
      "outputs": []
    },
    {
      "cell_type": "code",
      "source": [
        "pizzaria = minha_pizzaria()"
      ],
      "metadata": {
        "id": "tn_HZ6nme6bK"
      },
      "execution_count": null,
      "outputs": []
    },
    {
      "cell_type": "code",
      "source": [
        "pizzaria.nome_pizzaria('Semião')"
      ],
      "metadata": {
        "id": "dKAjW-tDfesi"
      },
      "execution_count": null,
      "outputs": []
    },
    {
      "cell_type": "code",
      "source": [
        "pizzaria.monta_cardapio([1,\"Frango Com Catupiry Pequena. Ingredientes:Frango desfiado, Catupiry \",34.80])\n",
        "pizzaria.monta_cardapio([2,\"Frango Com Catupiry Média. Ingredientes:Frango desfiado, Catupiry \",40.80])\n",
        "pizzaria.monta_cardapio([3,\"Frango Com Catupiry Grande. Ingredientes:Frango desfiado, Catupiry \",47.40])\n",
        "pizzaria.monta_cardapio([4,\"Frango Com Cheddar Pequena. Ingredientes:Frango desfiado, Cheddar\",35.20])\n",
        "pizzaria.monta_cardapio([5,\"Frango Com Cheddar Média. Ingredientes:Frango desfiado, Cheddar\",41.20])\n",
        "pizzaria.monta_cardapio([6,\"Frango Com Cheddar Grande. Ingredientes:Frango desfiado, Cheddar\",47.40])\n",
        "pizzaria.monta_cardapio([7,\"Frango Com Molho Barbecue Pequena. Ingredientes: Frango desfiado, Molho Barbecue\",34.20])\n",
        "pizzaria.monta_cardapio([8,\"Frango Com Molho Barbecue Média. Ingredientes: Frango desfiado, Molho Barbecue\",40.20])\n",
        "pizzaria.monta_cardapio([9,\"Frango Com Molho Barbecue Grande. Ingredientes: Frango desfiado, Molho Barbecue\",46.80])\n",
        "pizzaria.monta_cardapio([10,\"Peito De Peru Pequena. Ingredientes: Peito de Peru, Mussarela\",34.20])\n",
        "pizzaria.monta_cardapio([11,\"Peito De Peru Média. Ingredientes: Peito de Peru, Mussarela\",40.20])\n",
        "pizzaria.monta_cardapio([12,\"Peito De Peru Grande. Ingredientes: Peito de Peru, Mussarela\",46.80])\n",
        "pizzaria.monta_cardapio([13,\"Peito De Peru Com Catupiry Pequena. Ingredientes: Peito de Peru, Mussarela\",37.20])\n",
        "pizzaria.monta_cardapio([14,\"Peito De Peru Com Catupiry Média. Ingredientes: Peito de Peru, Mussarela\",43.20])\n",
        "pizzaria.monta_cardapio([15,\"Peito De Peru Com Catupiry Grande. Ingredientes: Peito de Peru, Mussarela\",49.80])"
      ],
      "metadata": {
        "id": "mQTnyjASfwGc"
      },
      "execution_count": null,
      "outputs": []
    },
    {
      "cell_type": "code",
      "source": [
        "pizzaria.get_cardapio()"
      ],
      "metadata": {
        "colab": {
          "base_uri": "https://localhost:8080/"
        },
        "id": "biize9F8iNJ-",
        "outputId": "bccd80e5-d6e3-41cf-8b70-7b92bbf5e044"
      },
      "execution_count": null,
      "outputs": [
        {
          "output_type": "stream",
          "name": "stdout",
          "text": [
            "---------------------\n",
            "####### Pizzas #######\n",
            "Cod.:1\n",
            "Desc.:Frango Com Catupiry Pequena. Ingredientes:Frango desfiado, Catupiry \n",
            "Preço.: R$34.8\n",
            "--------------------\n",
            "Cod.:2\n",
            "Desc.:Frango Com Catupiry Média. Ingredientes:Frango desfiado, Catupiry \n",
            "Preço.: R$40.8\n",
            "--------------------\n",
            "Cod.:3\n",
            "Desc.:Frango Com Catupiry Grande. Ingredientes:Frango desfiado, Catupiry \n",
            "Preço.: R$47.4\n",
            "--------------------\n",
            "Cod.:4\n",
            "Desc.:Frango Com Cheddar Pequena. Ingredientes:Frango desfiado, Cheddar\n",
            "Preço.: R$35.2\n",
            "--------------------\n",
            "Cod.:5\n",
            "Desc.:Frango Com Cheddar Média. Ingredientes:Frango desfiado, Cheddar\n",
            "Preço.: R$41.2\n",
            "--------------------\n",
            "Cod.:6\n",
            "Desc.:Frango Com Cheddar Grande. Ingredientes:Frango desfiado, Cheddar\n",
            "Preço.: R$47.4\n",
            "--------------------\n",
            "Cod.:7\n",
            "Desc.:Frango Com Molho Barbecue Pequena. Ingredientes: Frango desfiado, Molho Barbecue\n",
            "Preço.: R$34.2\n",
            "--------------------\n",
            "Cod.:8\n",
            "Desc.:Frango Com Molho Barbecue Média. Ingredientes: Frango desfiado, Molho Barbecue\n",
            "Preço.: R$40.2\n",
            "--------------------\n",
            "Cod.:9\n",
            "Desc.:Frango Com Molho Barbecue Grande. Ingredientes: Frango desfiado, Molho Barbecue\n",
            "Preço.: R$46.8\n",
            "--------------------\n",
            "Cod.:10\n",
            "Desc.:Peito De Peru Pequena. Ingredientes: Peito de Peru, Mussarela\n",
            "Preço.: R$34.2\n",
            "--------------------\n",
            "Cod.:11\n",
            "Desc.:Peito De Peru Média. Ingredientes: Peito de Peru, Mussarela\n",
            "Preço.: R$40.2\n",
            "--------------------\n",
            "Cod.:12\n",
            "Desc.:Peito De Peru Grande. Ingredientes: Peito de Peru, Mussarela\n",
            "Preço.: R$46.8\n",
            "--------------------\n",
            "Cod.:13\n",
            "Desc.:Peito De Peru Com Catupiry Pequena. Ingredientes: Peito de Peru, Mussarela\n",
            "Preço.: R$37.2\n",
            "--------------------\n",
            "Cod.:14\n",
            "Desc.:Peito De Peru Com Catupiry Média. Ingredientes: Peito de Peru, Mussarela\n",
            "Preço.: R$43.2\n",
            "--------------------\n",
            "Cod.:15\n",
            "Desc.:Peito De Peru Com Catupiry Grande. Ingredientes: Peito de Peru, Mussarela\n",
            "Preço.: R$49.8\n",
            "--------------------\n"
          ]
        }
      ]
    },
    {
      "cell_type": "code",
      "source": [
        "pizzaria.atendimento()"
      ],
      "metadata": {
        "colab": {
          "base_uri": "https://localhost:8080/"
        },
        "id": "1wfMJiIfipxG",
        "outputId": "36750f69-3edd-4027-a413-869526d972a4"
      },
      "execution_count": null,
      "outputs": [
        {
          "output_type": "stream",
          "name": "stdout",
          "text": [
            "Boa noite, bem vindo a Semião\n",
            "Digite o seu nomeLucas\n",
            "Lucasescolha seu produto\n",
            "-----Menu-----\n",
            "Cod.:1\n",
            "Desc.:Frango Com Catupiry Pequena. Ingredientes:Frango desfiado, Catupiry \n",
            "Preço.: R$34.8\n",
            "--------------------\n",
            "Cod.:2\n",
            "Desc.:Frango Com Catupiry Média. Ingredientes:Frango desfiado, Catupiry \n",
            "Preço.: R$40.8\n",
            "--------------------\n",
            "Cod.:3\n",
            "Desc.:Frango Com Catupiry Grande. Ingredientes:Frango desfiado, Catupiry \n",
            "Preço.: R$47.4\n",
            "--------------------\n",
            "Cod.:4\n",
            "Desc.:Frango Com Cheddar Pequena. Ingredientes:Frango desfiado, Cheddar\n",
            "Preço.: R$35.2\n",
            "--------------------\n",
            "Cod.:5\n",
            "Desc.:Frango Com Cheddar Média. Ingredientes:Frango desfiado, Cheddar\n",
            "Preço.: R$41.2\n",
            "--------------------\n",
            "Cod.:6\n",
            "Desc.:Frango Com Cheddar Grande. Ingredientes:Frango desfiado, Cheddar\n",
            "Preço.: R$47.4\n",
            "--------------------\n",
            "Cod.:7\n",
            "Desc.:Frango Com Molho Barbecue Pequena. Ingredientes: Frango desfiado, Molho Barbecue\n",
            "Preço.: R$34.2\n",
            "--------------------\n",
            "Cod.:8\n",
            "Desc.:Frango Com Molho Barbecue Média. Ingredientes: Frango desfiado, Molho Barbecue\n",
            "Preço.: R$40.2\n",
            "--------------------\n",
            "Cod.:9\n",
            "Desc.:Frango Com Molho Barbecue Grande. Ingredientes: Frango desfiado, Molho Barbecue\n",
            "Preço.: R$46.8\n",
            "--------------------\n",
            "Cod.:10\n",
            "Desc.:Peito De Peru Pequena. Ingredientes: Peito de Peru, Mussarela\n",
            "Preço.: R$34.2\n",
            "--------------------\n",
            "Cod.:11\n",
            "Desc.:Peito De Peru Média. Ingredientes: Peito de Peru, Mussarela\n",
            "Preço.: R$40.2\n",
            "--------------------\n",
            "Cod.:12\n",
            "Desc.:Peito De Peru Grande. Ingredientes: Peito de Peru, Mussarela\n",
            "Preço.: R$46.8\n",
            "--------------------\n",
            "Cod.:13\n",
            "Desc.:Peito De Peru Com Catupiry Pequena. Ingredientes: Peito de Peru, Mussarela\n",
            "Preço.: R$37.2\n",
            "--------------------\n",
            "Cod.:14\n",
            "Desc.:Peito De Peru Com Catupiry Média. Ingredientes: Peito de Peru, Mussarela\n",
            "Preço.: R$43.2\n",
            "--------------------\n",
            "Cod.:15\n",
            "Desc.:Peito De Peru Com Catupiry Grande. Ingredientes: Peito de Peru, Mussarela\n",
            "Preço.: R$49.8\n",
            "--------------------\n",
            "Digite o codigo do item14\n",
            "Digite a quantidade de itens1\n",
            "pedido realizado com sucesso, o tempo de entrega é de 40 Minutos\n"
          ]
        }
      ]
    },
    {
      "cell_type": "code",
      "source": [
        "pizzaria.lista_pedidos()"
      ],
      "metadata": {
        "colab": {
          "base_uri": "https://localhost:8080/"
        },
        "id": "Wa4cOBE1i_xE",
        "outputId": "be9c6a81-9496-4b50-9bc6-3d9b3ca76029"
      },
      "execution_count": null,
      "outputs": [
        {
          "output_type": "stream",
          "name": "stdout",
          "text": [
            "numero do pedido 1\n",
            "item 15\n",
            "valor R$ 49.8\n",
            "Quantidade 1\n",
            "Cliente Alan\n",
            "numero do pedido 2\n",
            "item 14\n",
            "valor R$ 43.2\n",
            "Quantidade 1\n",
            "Cliente Lucas\n"
          ]
        }
      ]
    },
    {
      "cell_type": "code",
      "source": [
        "pizzaria.finalizar_pedido()"
      ],
      "metadata": {
        "colab": {
          "base_uri": "https://localhost:8080/"
        },
        "id": "2Yg5i30vjEjy",
        "outputId": "2e83a0b0-a2a4-4e34-85a3-8c6e47d997ec"
      },
      "execution_count": null,
      "outputs": [
        {
          "name": "stdout",
          "output_type": "stream",
          "text": [
            "Digite o numero do pedido que será entregue2\n"
          ]
        }
      ]
    },
    {
      "cell_type": "code",
      "source": [
        "pizzaria.relatorio_caixa()"
      ],
      "metadata": {
        "colab": {
          "base_uri": "https://localhost:8080/"
        },
        "id": "zSaaAqlsjJ9u",
        "outputId": "43c0510e-eccc-4b67-cac3-0941349d0619"
      },
      "execution_count": null,
      "outputs": [
        {
          "output_type": "stream",
          "name": "stdout",
          "text": [
            "relatorio de caixa\n",
            "-----------------------\n",
            "Numero pedido:1\n",
            "item:15\n",
            "valor R$:49.8\n",
            "quantidade:1\n",
            "Cliente:Alan\n",
            "Valor total R$:49.8\n",
            "-----------------------\n",
            "Numero pedido:2\n",
            "item:14\n",
            "valor R$:43.2\n",
            "quantidade:1\n",
            "Cliente:Lucas\n",
            "Valor total R$:43.2\n",
            "-----------------------\n",
            "Total do caixa: R$93.0\n"
          ]
        }
      ]
    }
  ]
}